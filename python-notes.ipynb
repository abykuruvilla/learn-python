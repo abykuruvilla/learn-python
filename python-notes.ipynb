{
 "cells": [
  {
   "cell_type": "markdown",
   "source": [
    "Python for Coding Interviews - Possibly everything you will need"
   ],
   "metadata": {
    "collapsed": false
   },
   "id": "5a2d0bfc205a1467"
  },
  {
   "cell_type": "code",
   "execution_count": 183,
   "outputs": [
    {
     "name": "stdout",
     "output_type": "stream",
     "text": [
      "n =  0\n",
      "Hello\tAby|There!\n"
     ]
    }
   ],
   "source": [
    "#variables are dynamically typed\n",
    "n = 0\n",
    "print('n = ', n)\n",
    "\n",
    "# print takes in sep and end arguments. By default end is '\\n' if not specified. sep is separator between strings \n",
    "print(\"Hello\", \"Aby\", sep= '\\t', end= '|')\n",
    "print(\"There!\")"
   ],
   "metadata": {
    "collapsed": false,
    "ExecuteTime": {
     "end_time": "2023-10-07T20:21:53.731269400Z",
     "start_time": "2023-10-07T20:21:52.109517800Z"
    }
   },
   "id": "initial_id"
  },
  {
   "cell_type": "code",
   "execution_count": 184,
   "id": "8b853e4116a62b52",
   "metadata": {
    "ExecuteTime": {
     "end_time": "2023-10-07T20:21:53.732276700Z",
     "start_time": "2023-10-07T20:21:52.140020Z"
    }
   },
   "outputs": [
    {
     "name": "stdout",
     "output_type": "stream",
     "text": [
      "n =  abc\n"
     ]
    }
   ],
   "source": [
    "# since n has no type it can be reassigned to a string\n",
    "n = \"abc\"\n",
    "print('n = ', n)"
   ]
  },
  {
   "cell_type": "code",
   "execution_count": 185,
   "id": "545ef20ff866a48c",
   "metadata": {
    "ExecuteTime": {
     "end_time": "2023-10-07T20:21:54.635692700Z",
     "start_time": "2023-10-07T20:21:52.174318800Z"
    }
   },
   "outputs": [
    {
     "name": "stdout",
     "output_type": "stream",
     "text": [
      "n =  2\n",
      "m =  cdf\n",
      "n =  0.125\n",
      "m =  efg\n",
      "z =  False\n"
     ]
    }
   ],
   "source": [
    "# we can do multiple assignments\n",
    "n, m = 2, \"cdf\"\n",
    "print('n = ', n)\n",
    "print('m = ', m)\n",
    "\n",
    "n, m, z = 0.125, \"efg\", False\n",
    "print('n = ', n)\n",
    "print('m = ', m)\n",
    "print('z = ', z)"
   ]
  },
  {
   "cell_type": "code",
   "execution_count": 186,
   "id": "df717da0568a8955",
   "metadata": {
    "ExecuteTime": {
     "end_time": "2023-10-07T20:21:55.324436500Z",
     "start_time": "2023-10-07T20:21:52.210373700Z"
    }
   },
   "outputs": [],
   "source": [
    "# increment\n",
    "n = n + 1 # good\n",
    "n += 1    # good\n",
    "# n++ does not work in Python"
   ]
  },
  {
   "cell_type": "code",
   "execution_count": 187,
   "id": "9167c721687c13a0",
   "metadata": {
    "ExecuteTime": {
     "end_time": "2023-10-07T20:21:55.433994Z",
     "start_time": "2023-10-07T20:21:52.252072200Z"
    }
   },
   "outputs": [
    {
     "name": "stdout",
     "output_type": "stream",
     "text": [
      "k =  4\n",
      "k =  None\n"
     ]
    }
   ],
   "source": [
    "# in Python null is None\n",
    "k = 4\n",
    "print('k = ', k)\n",
    "k = None\n",
    "print('k = ', k)"
   ]
  },
  {
   "cell_type": "code",
   "execution_count": 188,
   "outputs": [
    {
     "name": "stdout",
     "output_type": "stream",
     "text": [
      "hellohellohello\n",
      "hellothere\n"
     ]
    }
   ],
   "source": [
    "# String multiplication and addition\n",
    "hello = 'hello'\n",
    "num = 3\n",
    "there = 'there'\n",
    "\n",
    "# repeat hello 3 times\n",
    "print(hello * 3)\n",
    "# join two stings\n",
    "print(hello + there)\n"
   ],
   "metadata": {
    "collapsed": false,
    "ExecuteTime": {
     "end_time": "2023-10-07T20:21:55.585376100Z",
     "start_time": "2023-10-07T20:21:52.275216Z"
    }
   },
   "id": "bee1eb78b1e31d1f"
  },
  {
   "cell_type": "code",
   "execution_count": 189,
   "outputs": [
    {
     "name": "stdout",
     "output_type": "stream",
     "text": [
      "Hello  Aby ! You are  10  years old\n"
     ]
    }
   ],
   "source": [
    "# Taking user input\n",
    "name = input(\"Type your name : \")\n",
    "age = input(\"Type your age : \")\n",
    "print(\"Hello \", name, \"! You are \", age, \" years old\")"
   ],
   "metadata": {
    "collapsed": false,
    "ExecuteTime": {
     "end_time": "2023-10-07T20:22:05.220347500Z",
     "start_time": "2023-10-07T20:21:52.303840900Z"
    }
   },
   "id": "11eabcaad9ebcdef"
  },
  {
   "cell_type": "markdown",
   "source": [
    "F Strings"
   ],
   "metadata": {
    "collapsed": false
   },
   "id": "905790d35f620242"
  },
  {
   "cell_type": "code",
   "execution_count": 262,
   "outputs": [
    {
     "name": "stdout",
     "output_type": "stream",
     "text": [
      "Hello it's Tim's birthday today, he is 89 years old!\n"
     ]
    }
   ],
   "source": [
    "# F Strings - a new way to do strings where stuff in the curly braces gets evaluated and printed, start the string with f\n",
    "timAge = 89\n",
    "print(f\"Hello it's Tim's birthday today, he is {timAge} years old!\" )"
   ],
   "metadata": {
    "collapsed": false,
    "ExecuteTime": {
     "end_time": "2023-10-07T21:30:46.902988100Z",
     "start_time": "2023-10-07T21:30:46.675431800Z"
    }
   },
   "id": "501b432614194235"
  },
  {
   "cell_type": "markdown",
   "source": [
    "If Else statements"
   ],
   "metadata": {
    "collapsed": false
   },
   "id": "89699431c99fb5e5"
  },
  {
   "cell_type": "code",
   "execution_count": 190,
   "id": "6f15d356221b6857",
   "metadata": {
    "ExecuteTime": {
     "end_time": "2023-10-07T20:22:05.221836500Z",
     "start_time": "2023-10-07T20:22:05.065030900Z"
    }
   },
   "outputs": [
    {
     "name": "stdout",
     "output_type": "stream",
     "text": [
      "n =  9\n"
     ]
    }
   ],
   "source": [
    "# if statements - don't need parenthesis or curly braces (we use indentation to  group logic)\n",
    "# else if is elif\n",
    "n = 10\n",
    "if n > 2:\n",
    "    n = n - 1\n",
    "elif n == 2:\n",
    "    n *= 2\n",
    "else:\n",
    "    n = n + 1\n",
    "\n",
    "print('n = ', n)   "
   ]
  },
  {
   "cell_type": "code",
   "execution_count": 191,
   "id": "4d88d77c1dd21e12",
   "metadata": {
    "ExecuteTime": {
     "end_time": "2023-10-07T20:22:05.221836500Z",
     "start_time": "2023-10-07T20:22:05.104150500Z"
    }
   },
   "outputs": [
    {
     "name": "stdout",
     "output_type": "stream",
     "text": [
      "n =  1\n",
      "False\n",
      "False\n",
      "True\n"
     ]
    }
   ],
   "source": [
    "# Parenthesis are required for multi-line conditionals\n",
    "# use and for &&\n",
    "# use or for ||\n",
    "n, m = 1, 2\n",
    "if((n > 2 and \n",
    "    n != m) or n == m):\n",
    "    n += 1\n",
    "print('n = ', n)\n",
    "\n",
    "# use not for !\n",
    "print(not True)\n",
    "x = 10\n",
    "y = 50\n",
    "result = x > y\n",
    "\n",
    "print(result)\n",
    "print(not result)"
   ]
  },
  {
   "cell_type": "code",
   "execution_count": 192,
   "id": "ff1aee215b9b5cfb",
   "metadata": {
    "ExecuteTime": {
     "end_time": "2023-10-07T20:22:05.221836500Z",
     "start_time": "2023-10-07T20:22:05.121369800Z"
    }
   },
   "outputs": [
    {
     "name": "stdout",
     "output_type": "stream",
     "text": [
      "n =  0\n",
      "n =  1\n",
      "n =  2\n",
      "n =  3\n",
      "n =  4\n"
     ]
    }
   ],
   "source": [
    "# While loops are similar to if loops\n",
    "n = 0\n",
    "while n < 5:\n",
    "    print('n = ', n)\n",
    "    n += 1"
   ]
  },
  {
   "cell_type": "code",
   "execution_count": 240,
   "outputs": [
    {
     "name": "stdout",
     "output_type": "stream",
     "text": [
      "n =  0\n",
      "n =  1\n",
      "n =  2\n"
     ]
    }
   ],
   "source": [
    "# You can break out of a while loop using a break statement\n",
    "n = 0\n",
    "while n < 5:\n",
    "    print('n = ', n)\n",
    "    n += 1\n",
    "    if n == 3:\n",
    "        break"
   ],
   "metadata": {
    "collapsed": false,
    "ExecuteTime": {
     "end_time": "2023-10-07T20:28:56.596793100Z",
     "start_time": "2023-10-07T20:28:56.270601600Z"
    }
   },
   "id": "97dc1a531bf646a"
  },
  {
   "cell_type": "code",
   "execution_count": 193,
   "id": "e07eaf954de2b814",
   "metadata": {
    "ExecuteTime": {
     "end_time": "2023-10-07T20:22:05.226195500Z",
     "start_time": "2023-10-07T20:22:05.138100100Z"
    }
   },
   "outputs": [
    {
     "name": "stdout",
     "output_type": "stream",
     "text": [
      "0\n",
      "1\n",
      "2\n",
      "3\n",
      "4\n",
      "5\n"
     ]
    }
   ],
   "source": [
    "# For loops \n",
    "# Loop from 0 to 5; note range does not include 6\n",
    "# the range method can take 3 values - start, stop, step\n",
    "# if only one value is passed it is stop\n",
    "for i in range(6):\n",
    "    print(i)"
   ]
  },
  {
   "cell_type": "code",
   "execution_count": 194,
   "id": "6d6534186d4ef226",
   "metadata": {
    "ExecuteTime": {
     "end_time": "2023-10-07T20:22:05.226195500Z",
     "start_time": "2023-10-07T20:22:05.153537400Z"
    }
   },
   "outputs": [
    {
     "name": "stdout",
     "output_type": "stream",
     "text": [
      "2\n",
      "3\n",
      "4\n",
      "5\n"
     ]
    }
   ],
   "source": [
    "# Loop from 2 to 5\n",
    "# two values passed start and stop\n",
    "for i in range(2, 6):\n",
    "    print(i)"
   ]
  },
  {
   "cell_type": "code",
   "execution_count": 195,
   "id": "b4250eb2fc7203f6",
   "metadata": {
    "ExecuteTime": {
     "end_time": "2023-10-07T20:22:05.227246700Z",
     "start_time": "2023-10-07T20:22:05.171048500Z"
    }
   },
   "outputs": [
    {
     "name": "stdout",
     "output_type": "stream",
     "text": [
      "5\n",
      "4\n",
      "3\n",
      "2\n"
     ]
    }
   ],
   "source": [
    "# Loop in reverse from 5 to 2\n",
    "# three values passed, start, stop and step\n",
    "for i in range(5, 1, -1):\n",
    "    print(i)"
   ]
  },
  {
   "cell_type": "code",
   "execution_count": 196,
   "id": "976de1ec6fda73ca",
   "metadata": {
    "ExecuteTime": {
     "end_time": "2023-10-07T20:22:05.227246700Z",
     "start_time": "2023-10-07T20:22:05.189105600Z"
    }
   },
   "outputs": [
    {
     "name": "stdout",
     "output_type": "stream",
     "text": [
      "2.5\n"
     ]
    }
   ],
   "source": [
    "# Division has a decimal by default\n",
    "print(5 / 2)"
   ]
  },
  {
   "cell_type": "code",
   "execution_count": 197,
   "id": "10a87be5fa41fddc",
   "metadata": {
    "ExecuteTime": {
     "end_time": "2023-10-07T20:22:05.566012400Z",
     "start_time": "2023-10-07T20:22:05.215945900Z"
    }
   },
   "outputs": [
    {
     "name": "stdout",
     "output_type": "stream",
     "text": [
      "2\n"
     ]
    }
   ],
   "source": [
    "# Using a double slash will round down to int (floor division)\n",
    "print(5 // 2)"
   ]
  },
  {
   "cell_type": "code",
   "execution_count": 198,
   "id": "1694666f104aa27",
   "metadata": {
    "ExecuteTime": {
     "end_time": "2023-10-07T20:22:05.623535600Z",
     "start_time": "2023-10-07T20:22:05.232251500Z"
    }
   },
   "outputs": [
    {
     "name": "stdout",
     "output_type": "stream",
     "text": [
      "-2\n"
     ]
    }
   ],
   "source": [
    "# Negative numbers will round towards zero in most languages, but Python rounds down\n",
    "print(-3 // 2)"
   ]
  },
  {
   "cell_type": "code",
   "execution_count": 199,
   "id": "caeb685083a3b522",
   "metadata": {
    "ExecuteTime": {
     "end_time": "2023-10-07T20:22:05.873379700Z",
     "start_time": "2023-10-07T20:22:05.247669100Z"
    }
   },
   "outputs": [
    {
     "name": "stdout",
     "output_type": "stream",
     "text": [
      "-1\n"
     ]
    }
   ],
   "source": [
    "# A workaround to round towards zero is to do decimal division and then convert to int\n",
    "print(int(-3 / 2))"
   ]
  },
  {
   "cell_type": "code",
   "execution_count": 200,
   "outputs": [
    {
     "name": "stdout",
     "output_type": "stream",
     "text": [
      "8\n"
     ]
    }
   ],
   "source": [
    "# Exponentiation\n",
    "x = 2\n",
    "y = 3\n",
    "print(2 ** 3)"
   ],
   "metadata": {
    "collapsed": false,
    "ExecuteTime": {
     "end_time": "2023-10-07T20:22:05.874383200Z",
     "start_time": "2023-10-07T20:22:05.282190500Z"
    }
   },
   "id": "1b8e15d589e3d99"
  },
  {
   "cell_type": "code",
   "execution_count": 201,
   "id": "1badcec956c6b513",
   "metadata": {
    "ExecuteTime": {
     "end_time": "2023-10-07T20:22:05.875383400Z",
     "start_time": "2023-10-07T20:22:05.309995300Z"
    }
   },
   "outputs": [
    {
     "name": "stdout",
     "output_type": "stream",
     "text": [
      "1\n"
     ]
    }
   ],
   "source": [
    "# Mod works like most languages\n",
    "print(10 % 3)"
   ]
  },
  {
   "cell_type": "code",
   "execution_count": 202,
   "id": "49c2cc68ca4f3d",
   "metadata": {
    "ExecuteTime": {
     "end_time": "2023-10-07T20:22:05.875383400Z",
     "start_time": "2023-10-07T20:22:05.343653600Z"
    }
   },
   "outputs": [
    {
     "name": "stdout",
     "output_type": "stream",
     "text": [
      "2\n"
     ]
    }
   ],
   "source": [
    "# Mod works weird for negative values, returns 2 instead of 1\n",
    "print(-10 % 3)"
   ]
  },
  {
   "cell_type": "code",
   "execution_count": 203,
   "id": "ce92cd90ed1685a",
   "metadata": {
    "ExecuteTime": {
     "end_time": "2023-10-07T20:22:05.875383400Z",
     "start_time": "2023-10-07T20:22:05.360270Z"
    }
   },
   "outputs": [
    {
     "name": "stdout",
     "output_type": "stream",
     "text": [
      "Math mod (-10 % 3) ->  -1.0\n",
      "Math floor (3 / 2) ->  1\n",
      "Math ceiling (3 / 2) ->  2\n",
      "Math sqrt of 2 ->  1.4142135623730951\n",
      "Math power of 2^3 ->  8.0\n"
     ]
    }
   ],
   "source": [
    "# To match modulo functionality of Java import the math package\n",
    "import math\n",
    "print('Math mod (-10 % 3) -> ', math.fmod(-10, 3))\n",
    "\n",
    "# More math operators\n",
    "print('Math floor (3 / 2) -> ', math.floor(3 / 2))\n",
    "print('Math ceiling (3 / 2) -> ', math.ceil(3 / 2))\n",
    "print('Math sqrt of 2 -> ', math.sqrt(2))\n",
    "print('Math power of 2^3 -> ', math.pow(2, 3))\n"
   ]
  },
  {
   "cell_type": "code",
   "execution_count": 204,
   "outputs": [],
   "source": [
    "# Python follows B - E - D - M - A - S\n",
    "# Bracket - Exponent - Division - Multiplication - Addition - Subtraction order of execution"
   ],
   "metadata": {
    "collapsed": false,
    "ExecuteTime": {
     "end_time": "2023-10-07T20:22:05.876383800Z",
     "start_time": "2023-10-07T20:22:05.375856200Z"
    }
   },
   "id": "7a55e006eb84be48"
  },
  {
   "cell_type": "code",
   "execution_count": 205,
   "id": "2a6d8828626cc47a",
   "metadata": {
    "ExecuteTime": {
     "end_time": "2023-10-07T20:22:05.876383800Z",
     "start_time": "2023-10-07T20:22:05.394995900Z"
    }
   },
   "outputs": [
    {
     "name": "stdout",
     "output_type": "stream",
     "text": [
      "1.6069380442589903e+60\n",
      "True\n"
     ]
    }
   ],
   "source": [
    "# Max/Min Int\n",
    "float(\"inf\")\n",
    "float(\"-inf\")\n",
    "\n",
    "# Python numbers are infinite and hence do not overflow\n",
    "import math\n",
    "print(math.pow(2, 200))\n",
    "\n",
    "# The above number is very large but is still less than infinity\n",
    "print(math.pow(2, 200) < float(\"inf\"))"
   ]
  },
  {
   "cell_type": "markdown",
   "source": [
    "Arrays/Lists"
   ],
   "metadata": {
    "collapsed": false
   },
   "id": "53cd01ea7c7fa9bb"
  },
  {
   "cell_type": "code",
   "execution_count": 206,
   "outputs": [
    {
     "name": "stdout",
     "output_type": "stream",
     "text": [
      "[1, 2, 3]\n"
     ]
    }
   ],
   "source": [
    "# Arrays called as lists in Python - most common DS\n",
    "arr = [1, 2, 3]\n",
    "print(arr)"
   ],
   "metadata": {
    "collapsed": false,
    "ExecuteTime": {
     "end_time": "2023-10-07T20:22:05.877383300Z",
     "start_time": "2023-10-07T20:22:05.423879600Z"
    }
   },
   "id": "9dd26fd0ba5751a6"
  },
  {
   "cell_type": "code",
   "execution_count": 207,
   "outputs": [
    {
     "name": "stdout",
     "output_type": "stream",
     "text": [
      "[1, 2, 3, 4, 5]\n",
      "[1, 2, 3, 4]\n",
      "[1, 7, 2, 3, 4]\n",
      "[0, 7, 2, 0, 4]\n",
      "[11, 12, 13, 14, 15, 16]\n"
     ]
    }
   ],
   "source": [
    "# Arrays are dynamic by default in Python and can be used as a stack where we can push and pop values\n",
    "arr = [1, 2, 3]\n",
    "arr.append(4)\n",
    "arr.append(5)\n",
    "print(arr)\n",
    "\n",
    "# Pop from the end\n",
    "arr.pop()\n",
    "print(arr)\n",
    "\n",
    "# Inserting a value at a position\n",
    "arr.insert(1, 7)\n",
    "print(arr)\n",
    "\n",
    "# Changing values at indexes is a constant time operation\n",
    "arr[0] = 0\n",
    "arr[3] = 0\n",
    "print(arr)\n",
    "\n",
    "# You can also extend a list as below\n",
    "arr1 = [11, 12, 13]\n",
    "arr2 = [14, 15, 16]\n",
    "arr1.extend(arr2)\n",
    "print(arr1)"
   ],
   "metadata": {
    "collapsed": false,
    "ExecuteTime": {
     "end_time": "2023-10-07T20:22:05.877383300Z",
     "start_time": "2023-10-07T20:22:05.463290100Z"
    }
   },
   "id": "86d5c901e902c59a"
  },
  {
   "cell_type": "code",
   "execution_count": 208,
   "outputs": [
    {
     "name": "stdout",
     "output_type": "stream",
     "text": [
      "['hello', 1, 'there']\n",
      "['hello', 1, 'there']\n",
      "['hello', 1, 'non-copied']\n",
      "['hello', 1, 'there']\n"
     ]
    }
   ],
   "source": [
    "# Arrays are mutable, and it just stores a reference to its values, which is why its values can be changed\n",
    "arr1 = [\"hello\", 1, 10.05]\n",
    "# arr2 is just referencing arr1, a change to arr1 will change arr2\n",
    "arr2 = arr1\n",
    "arr1[2] = \"there\"\n",
    "print(arr1)\n",
    "\n",
    "# Explicity copying the array\n",
    "copiedArr = arr1[:]\n",
    "print(copiedArr)\n",
    "# changing arr1 will not reflect on copiedArr\n",
    "arr1[2] = \"non-copied\"\n",
    "print(arr1)\n",
    "print(copiedArr)\n",
    "\n",
    "\n"
   ],
   "metadata": {
    "collapsed": false,
    "ExecuteTime": {
     "end_time": "2023-10-07T20:22:05.878181700Z",
     "start_time": "2023-10-07T20:22:05.499190100Z"
    }
   },
   "id": "bb55dc91541c7458"
  },
  {
   "cell_type": "code",
   "execution_count": 209,
   "outputs": [
    {
     "name": "stdout",
     "output_type": "stream",
     "text": [
      "[1, 1, 1, 1, 1]\n",
      "5\n"
     ]
    }
   ],
   "source": [
    "# Initializing an array of size 5 with all values as 1\n",
    "n = 5\n",
    "arr = [1] * n\n",
    "print(arr)\n",
    "print(len(arr))"
   ],
   "metadata": {
    "collapsed": false,
    "ExecuteTime": {
     "end_time": "2023-10-07T20:22:05.878695200Z",
     "start_time": "2023-10-07T20:22:05.530189Z"
    }
   },
   "id": "e77ee7a894585863"
  },
  {
   "cell_type": "code",
   "execution_count": 210,
   "outputs": [
    {
     "name": "stdout",
     "output_type": "stream",
     "text": [
      "4\n",
      "3\n"
     ]
    }
   ],
   "source": [
    "# Note: -1 is not out of bounds in Python, it points to the last element of the array\n",
    "arr = [1, 2, 3, 4]\n",
    "print(arr[-1])\n",
    "\n",
    "# Index -2 points to second last item in the list\n",
    "print(arr[-2])"
   ],
   "metadata": {
    "collapsed": false,
    "ExecuteTime": {
     "end_time": "2023-10-07T20:22:05.997344100Z",
     "start_time": "2023-10-07T20:22:05.547168Z"
    }
   },
   "id": "cd1838d6bf7e9e1c"
  },
  {
   "cell_type": "code",
   "execution_count": 248,
   "outputs": [
    {
     "name": "stdout",
     "output_type": "stream",
     "text": [
      "[2, 3]\n",
      "[1, 2, 3, 4]\n",
      "[1, 3]\n",
      "[4, 3, 2, 1]\n",
      "hlo\n"
     ]
    }
   ],
   "source": [
    "# Sublists (aka slicing) - not inclusive of last element\n",
    "# Slices also can take 3 values [start:stop:step]\n",
    "arr = [1, 2, 3, 4]\n",
    "print(arr[1:3])\n",
    "\n",
    "# Getting the full array\n",
    "print(arr[0:4])\n",
    "\n",
    "# Get only alternate values\n",
    "print(arr[0:4:2])\n",
    "\n",
    "# You can also reverse a list using a slicing operation\n",
    "print(arr[::-1])\n",
    "\n",
    "# Slicing works on any collection or strings also\n",
    "str = \"hello\"\n",
    "print(str[::2])\n"
   ],
   "metadata": {
    "collapsed": false,
    "ExecuteTime": {
     "end_time": "2023-10-07T20:39:58.551270600Z",
     "start_time": "2023-10-07T20:39:58.318938800Z"
    }
   },
   "id": "68fb540c4aa34840"
  },
  {
   "cell_type": "code",
   "execution_count": 212,
   "outputs": [
    {
     "name": "stdout",
     "output_type": "stream",
     "text": [
      "1\n",
      "2\n",
      "3\n"
     ]
    }
   ],
   "source": [
    "# Unpacking elements of an array\n",
    "a, b, c = [1, 2, 3]\n",
    "print(a)\n",
    "print(b)\n",
    "print(c)\n",
    "\n",
    "# Note: while unpacking the elements on the left must be equal to elements of array\n",
    "# a, b = [2, 4, 8]"
   ],
   "metadata": {
    "collapsed": false,
    "ExecuteTime": {
     "end_time": "2023-10-07T20:22:06.048799500Z",
     "start_time": "2023-10-07T20:22:05.592119300Z"
    }
   },
   "id": "244456fa49a91df"
  },
  {
   "cell_type": "code",
   "execution_count": 213,
   "outputs": [
    {
     "name": "stdout",
     "output_type": "stream",
     "text": [
      "1\n",
      "2\n",
      "3\n",
      "1\n",
      "2\n",
      "3\n",
      "0 1\n",
      "1 2\n",
      "2 3\n"
     ]
    }
   ],
   "source": [
    "# Looping through arrays\n",
    "nums = [1, 2, 3]\n",
    "\n",
    "# Using the index\n",
    "for i in range(len(nums)):\n",
    "    print(nums[i])\n",
    "    \n",
    "# Without index\n",
    "for n in nums:\n",
    "    print(n)\n",
    "    \n",
    "# Using enumerate to get index and values\n",
    "for i, n in enumerate(nums):\n",
    "    print(i, n)"
   ],
   "metadata": {
    "collapsed": false,
    "ExecuteTime": {
     "end_time": "2023-10-07T20:22:06.049798300Z",
     "start_time": "2023-10-07T20:22:05.606297200Z"
    }
   },
   "id": "355ba474704a8ea2"
  },
  {
   "cell_type": "code",
   "execution_count": 214,
   "outputs": [
    {
     "name": "stdout",
     "output_type": "stream",
     "text": [
      "1 2\n",
      "3 4\n",
      "5 6\n"
     ]
    }
   ],
   "source": [
    "# Loop through multiple arrays with unpacking\n",
    "# Zip pairs up the elements of nums1 and nums2 and then unpacks the values \n",
    "nums1 = [1, 3, 5]\n",
    "nums2 = [2, 4, 6]\n",
    "\n",
    "for n1, n2 in zip(nums1, nums2):\n",
    "    print(n1, n2)"
   ],
   "metadata": {
    "collapsed": false,
    "ExecuteTime": {
     "end_time": "2023-10-07T20:22:06.145089Z",
     "start_time": "2023-10-07T20:22:05.626825600Z"
    }
   },
   "id": "e090a022c15e1bd7"
  },
  {
   "cell_type": "code",
   "execution_count": 215,
   "outputs": [
    {
     "name": "stdout",
     "output_type": "stream",
     "text": [
      "[3, 2, 1]\n"
     ]
    }
   ],
   "source": [
    "# Reverse elements of the list\n",
    "nums = [1, 2, 3]\n",
    "nums.reverse()\n",
    "print(nums)"
   ],
   "metadata": {
    "collapsed": false,
    "ExecuteTime": {
     "end_time": "2023-10-07T20:22:06.146126900Z",
     "start_time": "2023-10-07T20:22:05.642572700Z"
    }
   },
   "id": "a69e9722c1c9b141"
  },
  {
   "cell_type": "code",
   "execution_count": 216,
   "outputs": [
    {
     "name": "stdout",
     "output_type": "stream",
     "text": [
      "[2, 3, 4, 5, 8]\n",
      "[8, 5, 4, 3, 2]\n"
     ]
    }
   ],
   "source": [
    "# Sorting elements of the list\n",
    "arr = [5, 4, 8, 2, 3]\n",
    "arr.sort()\n",
    "print(arr)\n",
    "\n",
    "# Sorting in descending order\n",
    "arr.sort(reverse=True)\n",
    "print(arr)"
   ],
   "metadata": {
    "collapsed": false,
    "ExecuteTime": {
     "end_time": "2023-10-07T20:22:06.147126600Z",
     "start_time": "2023-10-07T20:22:05.659483Z"
    }
   },
   "id": "f264fa1cde9158a2"
  },
  {
   "cell_type": "code",
   "execution_count": 217,
   "outputs": [
    {
     "name": "stdout",
     "output_type": "stream",
     "text": [
      "['aby', 'alice', 'bob', 'jade', 'jane']\n",
      "['aby', 'bob', 'jade', 'jane', 'alice']\n"
     ]
    }
   ],
   "source": [
    "# Sorting strings in alphabetical order\n",
    "arr = [\"bob\", \"alice\", \"aby\", \"jade\", \"jane\"]\n",
    "arr.sort()\n",
    "print(arr)\n",
    "\n",
    "# Custom sort by length of string\n",
    "# sort function takes in a lambda expression which takes in value of the array and \n",
    "# returns length of the element, which is used as criteria to sort\n",
    "arr.sort(key=lambda x: len(x))\n",
    "print(arr)"
   ],
   "metadata": {
    "collapsed": false,
    "ExecuteTime": {
     "end_time": "2023-10-07T20:22:06.147908400Z",
     "start_time": "2023-10-07T20:22:05.670361100Z"
    }
   },
   "id": "a7d4f6a4d7d615b2"
  },
  {
   "cell_type": "code",
   "execution_count": 218,
   "outputs": [
    {
     "name": "stdout",
     "output_type": "stream",
     "text": [
      "[0, 1, 2, 3, 4]\n",
      "[0, 2, 4, 6, 8]\n"
     ]
    }
   ],
   "source": [
    "# List comprehension\n",
    "arr = [i for i in range(5)]\n",
    "print(arr)\n",
    "\n",
    "arr = [i+i for i in range(5)]\n",
    "print(arr)"
   ],
   "metadata": {
    "collapsed": false,
    "ExecuteTime": {
     "end_time": "2023-10-07T20:22:06.147908400Z",
     "start_time": "2023-10-07T20:22:05.688028900Z"
    }
   },
   "id": "95daf66d19db59ca"
  },
  {
   "cell_type": "code",
   "execution_count": 219,
   "outputs": [
    {
     "name": "stdout",
     "output_type": "stream",
     "text": [
      "[[0, 0, 0, 0], [0, 0, 0, 0], [0, 0, 0, 0], [0, 0, 0, 0]]\n",
      "[[4, 0, 0, 0], [0, 0, 0, 0], [0, 0, 0, 0], [0, 0, 0, 0]]\n",
      "[[0, 0, 0, 0], [0, 0, 0, 0], [0, 0, 0, 0], [0, 0, 0, 0]]\n",
      "[[4, 0, 0, 0], [4, 0, 0, 0], [4, 0, 0, 0], [4, 0, 0, 0]]\n"
     ]
    }
   ],
   "source": [
    "# 2-D Lists\n",
    "# Create 2D array of length 4x4  initialized to 0\n",
    "arr = [[0] * 4 for i in range(4)]\n",
    "print(arr)\n",
    "arr[0][0] = 4\n",
    "print(arr)\n",
    "\n",
    "# NOTE: This shortcut won't work; it shows a 4x4 array initialized to 0, but if you change one value it changes values in all the sublists\n",
    "arr = [[0] * 4] * 4\n",
    "print(arr)\n",
    "arr[0][0] = 4\n",
    "print(arr)"
   ],
   "metadata": {
    "collapsed": false,
    "ExecuteTime": {
     "end_time": "2023-10-07T20:22:06.147908400Z",
     "start_time": "2023-10-07T20:22:05.699745700Z"
    }
   },
   "id": "814717ded6b01eaa"
  },
  {
   "cell_type": "markdown",
   "source": [
    "Strings"
   ],
   "metadata": {
    "collapsed": false
   },
   "id": "8149340dac00109c"
  },
  {
   "cell_type": "code",
   "execution_count": 220,
   "outputs": [
    {
     "name": "stdout",
     "output_type": "stream",
     "text": [
      "ab\n",
      "abcdef\n"
     ]
    }
   ],
   "source": [
    "# Strings are similar to arrays\n",
    "s = \"abc\"\n",
    "print(s[0:2])\n",
    "\n",
    "# Strings are immutable\n",
    "\n",
    "# This creates a new string\n",
    "s += \"def\"\n",
    "print(s)"
   ],
   "metadata": {
    "collapsed": false,
    "ExecuteTime": {
     "end_time": "2023-10-07T20:22:06.149888800Z",
     "start_time": "2023-10-07T20:22:05.718729800Z"
    }
   },
   "id": "73e15a5690ff9d70"
  },
  {
   "cell_type": "code",
   "execution_count": 221,
   "outputs": [
    {
     "name": "stdout",
     "output_type": "stream",
     "text": [
      "246\n",
      "123132\n"
     ]
    }
   ],
   "source": [
    "# Valid numeric Strings can be converted\n",
    "print(int(\"123\") + int(\"123\"))\n",
    "\n",
    "# Numbers can be converted to strings\n",
    "print(str(123) + str(132))"
   ],
   "metadata": {
    "collapsed": false,
    "ExecuteTime": {
     "end_time": "2023-10-07T20:22:06.151392500Z",
     "start_time": "2023-10-07T20:22:05.729411700Z"
    }
   },
   "id": "d8902f3ea3bc4f57"
  },
  {
   "cell_type": "code",
   "execution_count": 222,
   "outputs": [
    {
     "name": "stdout",
     "output_type": "stream",
     "text": [
      "97\n",
      "65\n"
     ]
    }
   ],
   "source": [
    "# In the rare case you need the ASCII value of a char use the ord - ordinal function\n",
    "print(ord(\"a\"))\n",
    "print(ord(\"A\"))"
   ],
   "metadata": {
    "collapsed": false,
    "ExecuteTime": {
     "end_time": "2023-10-07T20:22:06.152390500Z",
     "start_time": "2023-10-07T20:22:05.748079500Z"
    }
   },
   "id": "488bfaa3067ca078"
  },
  {
   "cell_type": "code",
   "execution_count": 223,
   "outputs": [
    {
     "name": "stdout",
     "output_type": "stream",
     "text": [
      "ab cd ef\n",
      "ab|cd|ef\n"
     ]
    }
   ],
   "source": [
    "# Combine a list of strings with empty string delimiter\n",
    "strings = [\"ab\", \"cd\", \"ef\"]\n",
    "print(\" \".join(strings))\n",
    "\n",
    "# Using a different delimiter like |\n",
    "print(\"|\".join(strings))"
   ],
   "metadata": {
    "collapsed": false,
    "ExecuteTime": {
     "end_time": "2023-10-07T20:22:06.190501200Z",
     "start_time": "2023-10-07T20:22:05.779711100Z"
    }
   },
   "id": "a9315f959cff4a81"
  },
  {
   "cell_type": "markdown",
   "source": [
    "Queues"
   ],
   "metadata": {
    "collapsed": false
   },
   "id": "1908f1d4a92f3501"
  },
  {
   "cell_type": "code",
   "execution_count": 224,
   "outputs": [
    {
     "name": "stdout",
     "output_type": "stream",
     "text": [
      "deque([1, 2, 3])\n",
      "deque([2, 3])\n",
      "deque([1, 2, 3])\n",
      "deque([1, 2])\n"
     ]
    }
   ],
   "source": [
    "# Queues are double ended queues by default - you can add to either end\n",
    "from collections import deque\n",
    "\n",
    "queue = deque()\n",
    "queue.append(1)\n",
    "queue.append(2)\n",
    "queue.append(3)\n",
    "print(queue)\n",
    "\n",
    "# one benefit is you can pop from front of queue in constant time\n",
    "queue.popleft()\n",
    "print(queue)\n",
    "\n",
    "# you can also append to the left side\n",
    "queue.appendleft(1)\n",
    "print(queue)\n",
    "\n",
    "#you can also pop from the right of the queue\n",
    "queue.pop()\n",
    "print(queue)\n"
   ],
   "metadata": {
    "collapsed": false,
    "ExecuteTime": {
     "end_time": "2023-10-07T20:22:06.202727700Z",
     "start_time": "2023-10-07T20:22:05.802272900Z"
    }
   },
   "id": "832b512379a79703"
  },
  {
   "cell_type": "markdown",
   "source": [
    "HashSets"
   ],
   "metadata": {
    "collapsed": false
   },
   "id": "d157ebc5aa8c531b"
  },
  {
   "cell_type": "code",
   "execution_count": 225,
   "outputs": [
    {
     "name": "stdout",
     "output_type": "stream",
     "text": [
      "{1, 2}\n",
      "2\n",
      "True\n",
      "True\n",
      "False\n",
      "False\n"
     ]
    }
   ],
   "source": [
    "# Hashsets are very useful as you can search and insert into it in real time\n",
    "mySet = set()\n",
    "\n",
    "# Note: there cannot be any duplicates in a Hashset\n",
    "mySet.add(1)\n",
    "mySet.add(2)\n",
    "mySet.add(2)\n",
    "print(mySet)\n",
    "print(len(mySet))\n",
    "\n",
    "# Search if an element is contained in the set using the in operator\n",
    "print(1 in mySet)\n",
    "print(2 in mySet)\n",
    "print(3 in mySet)\n",
    "\n",
    "# Values can be removed from a set in constant time\n",
    "mySet.remove(2)\n",
    "print(2 in mySet)"
   ],
   "metadata": {
    "collapsed": false,
    "ExecuteTime": {
     "end_time": "2023-10-07T20:22:06.208946500Z",
     "start_time": "2023-10-07T20:22:05.820419500Z"
    }
   },
   "id": "9e88f747a533e29a"
  },
  {
   "cell_type": "code",
   "execution_count": 251,
   "outputs": [
    {
     "name": "stdout",
     "output_type": "stream",
     "text": [
      "{1, 2, 3}\n",
      "<class 'dict'>\n",
      "<class 'set'>\n"
     ]
    }
   ],
   "source": [
    "# You can initialize a set using a list\n",
    "print(set([1, 2, 3]))\n",
    "\n",
    "# A set can also be initialized with values in curly braces. NOTE: we cannot do empty curly braces as that is a map\n",
    "print(type({}))\n",
    "\n",
    "print(type({1,2,3,4,5}))"
   ],
   "metadata": {
    "collapsed": false,
    "ExecuteTime": {
     "end_time": "2023-10-07T20:45:14.320253300Z",
     "start_time": "2023-10-07T20:45:14.038332200Z"
    }
   },
   "id": "1e027b25dd0b8249"
  },
  {
   "cell_type": "code",
   "execution_count": 255,
   "outputs": [
    {
     "name": "stdout",
     "output_type": "stream",
     "text": [
      "<class 'set'>\n",
      "1\n",
      "2\n",
      "3\n"
     ]
    }
   ],
   "source": [
    "# Looping over sets\n",
    "exampleSet = {1,2,3,3}\n",
    "print(type(exampleSet))\n",
    "\n",
    "for i in exampleSet:\n",
    "    print(i)"
   ],
   "metadata": {
    "collapsed": false,
    "ExecuteTime": {
     "end_time": "2023-10-07T20:53:52.635835400Z",
     "start_time": "2023-10-07T20:53:52.438654100Z"
    }
   },
   "id": "59ed5593248af458"
  },
  {
   "cell_type": "code",
   "execution_count": 227,
   "outputs": [
    {
     "name": "stdout",
     "output_type": "stream",
     "text": [
      "{0, 1, 2, 3, 4}\n"
     ]
    }
   ],
   "source": [
    "# Set comprehension\n",
    "mySet = { i for i in range(5) }\n",
    "print(mySet)"
   ],
   "metadata": {
    "collapsed": false,
    "ExecuteTime": {
     "end_time": "2023-10-07T20:22:06.212016300Z",
     "start_time": "2023-10-07T20:22:05.849075300Z"
    }
   },
   "id": "38ad808fbfcf6c81"
  },
  {
   "cell_type": "markdown",
   "source": [
    "HashMaps"
   ],
   "metadata": {
    "collapsed": false
   },
   "id": "d9f1c19648cb3e48"
  },
  {
   "cell_type": "code",
   "execution_count": 253,
   "outputs": [
    {
     "name": "stdout",
     "output_type": "stream",
     "text": [
      "{'alice': 88, 'bob': 76}\n",
      "2\n",
      "{'alice': 80, 'bob': 76}\n",
      "True\n",
      "False\n",
      "{'alice': 90, 'bob': 50}\n",
      "{'bob': 50}\n"
     ]
    }
   ],
   "source": [
    "# Hashmaps or dictionaries are initialized using curly braces\n",
    "# the map cannot have duplicate keys\n",
    "myMap = {}\n",
    "myMap[\"alice\"] = 88\n",
    "myMap[\"bob\"] = 76\n",
    "print(myMap)\n",
    "\n",
    "# Number of keys in map\n",
    "print(len(myMap))\n",
    "\n",
    "# Updating value of a key\n",
    "myMap[\"alice\"] = 80\n",
    "print(myMap)\n",
    "\n",
    "# Check if key is contained in map\n",
    "print(\"alice\" in myMap)\n",
    "\n",
    "# Remove from the HashMap\n",
    "myMap.pop(\"alice\")\n",
    "print(\"alice\" in myMap)\n",
    "\n",
    "# Another way to manually initialize a HashMap\n",
    "myMap = {\"alice\": 90, \"bob\": 50}\n",
    "print(myMap)\n",
    "\n",
    "# You can also use del to remove a record from the map\n",
    "del myMap[\"alice\"]\n",
    "print(myMap)\n"
   ],
   "metadata": {
    "collapsed": false,
    "ExecuteTime": {
     "end_time": "2023-10-07T20:50:54.837066900Z",
     "start_time": "2023-10-07T20:50:54.714017900Z"
    }
   },
   "id": "4aeceb6ca56118c6"
  },
  {
   "cell_type": "code",
   "execution_count": 229,
   "outputs": [
    {
     "name": "stdout",
     "output_type": "stream",
     "text": [
      "{0: 0, 1: 2, 2: 4}\n"
     ]
    }
   ],
   "source": [
    "# Dictionary comprehension - create map with key as i and value as 2*1 where keys go from 0 to 2\n",
    "myMap = {i: 2*i for i in range(3)}\n",
    "print(myMap)"
   ],
   "metadata": {
    "collapsed": false,
    "ExecuteTime": {
     "end_time": "2023-10-07T20:22:06.433148300Z",
     "start_time": "2023-10-07T20:22:05.881709900Z"
    }
   },
   "id": "820b1fcbef5a915a"
  },
  {
   "cell_type": "code",
   "execution_count": 230,
   "outputs": [
    {
     "name": "stdout",
     "output_type": "stream",
     "text": [
      "alice 90\n",
      "bob 70\n",
      "90\n",
      "70\n",
      "alice 90\n",
      "bob 70\n"
     ]
    }
   ],
   "source": [
    "# Looping through maps\n",
    "myMap = {\"alice\" : 90, \"bob\" : 70}\n",
    "for key in myMap:\n",
    "    print(key, myMap[key])\n",
    "    \n",
    "# Iterating over values of the map\n",
    "for val in myMap.values():\n",
    "    print(val)\n",
    "    \n",
    "# Another way to iterate over map\n",
    "for key, val in myMap.items():\n",
    "    print(key, val)"
   ],
   "metadata": {
    "collapsed": false,
    "ExecuteTime": {
     "end_time": "2023-10-07T20:22:07.244216100Z",
     "start_time": "2023-10-07T20:22:05.898373700Z"
    }
   },
   "id": "cf31acafd3092ebb"
  },
  {
   "cell_type": "markdown",
   "source": [
    "Tuples"
   ],
   "metadata": {
    "collapsed": false
   },
   "id": "151092d001b68fa2"
  },
  {
   "cell_type": "code",
   "execution_count": 231,
   "outputs": [
    {
     "name": "stdout",
     "output_type": "stream",
     "text": [
      "(1, 2, 3)\n",
      "1\n",
      "3\n"
     ]
    }
   ],
   "source": [
    "# Tuples are like arrays but immutable\n",
    "tup = (1, 2, 3)\n",
    "print(tup)\n",
    "print(tup[0])\n",
    "print(tup[-1])\n",
    "\n",
    "# The value cannot be modified - gives TypeError\n",
    "# tup[0] = 0"
   ],
   "metadata": {
    "collapsed": false,
    "ExecuteTime": {
     "end_time": "2023-10-07T20:22:07.348693800Z",
     "start_time": "2023-10-07T20:22:05.915012500Z"
    }
   },
   "id": "1ff58e6a4ef6c127"
  },
  {
   "cell_type": "code",
   "execution_count": 249,
   "outputs": [
    {
     "name": "stdout",
     "output_type": "stream",
     "text": [
      "{(1, 2): 3}\n",
      "3\n",
      "{(1, 2)}\n",
      "True\n",
      "(3, 7)\n"
     ]
    }
   ],
   "source": [
    "# Tuples are normally used as keys for a HashMap\n",
    "myMap = {(1, 2) : 3}\n",
    "print(myMap)\n",
    "# Print value to the tuple key\n",
    "print(myMap[(1, 2)])\n",
    "\n",
    "\n",
    "# Tuples can also be used with sets\n",
    "mySet = set()\n",
    "mySet.add(((1, 2)))\n",
    "print(mySet)\n",
    "print((1, 2) in mySet)\n",
    "\n",
    "# The reason we use tuples instead of lists as keys is because lists are not hashable.\n",
    "# Lists cannot be keys\n",
    "# myMap[[3, 4]] = 5\n",
    "\n",
    "# tuple slicing\n",
    "print((1, 3, 5, 7, 9)[1:5:2])"
   ],
   "metadata": {
    "collapsed": false,
    "ExecuteTime": {
     "end_time": "2023-10-07T20:40:19.768515100Z",
     "start_time": "2023-10-07T20:40:19.513981800Z"
    }
   },
   "id": "2b960890c77c0a0"
  },
  {
   "cell_type": "code",
   "execution_count": 256,
   "outputs": [
    {
     "name": "stdout",
     "output_type": "stream",
     "text": [
      "(0, 5, 10, 15, 20, 25, 30, 35, 40, 45, 50, 55, 60, 65, 70, 75, 80, 85, 90, 95)\n"
     ]
    }
   ],
   "source": [
    "# Tuple compehension\n",
    "tupX = tuple(i for i in range(100) if i % 5 == 0)\n",
    "print(tupX)"
   ],
   "metadata": {
    "collapsed": false,
    "ExecuteTime": {
     "end_time": "2023-10-07T20:59:17.756274800Z",
     "start_time": "2023-10-07T20:59:17.442433700Z"
    }
   },
   "id": "44c92c66f465fe44"
  },
  {
   "cell_type": "markdown",
   "source": [
    "Heaps"
   ],
   "metadata": {
    "collapsed": false
   },
   "id": "69d3d866d16f443c"
  },
  {
   "cell_type": "code",
   "execution_count": 233,
   "outputs": [
    {
     "name": "stdout",
     "output_type": "stream",
     "text": [
      "2\n",
      "2\n",
      "3\n",
      "4\n"
     ]
    }
   ],
   "source": [
    "# Heaps are a data structure used to find the min/max type of problems\n",
    "import heapq\n",
    "\n",
    "# Under the hood are arrays\n",
    "# By default heaps in Python are minHeaps\n",
    "minHeap = []\n",
    "heapq.heappush(minHeap, 3)\n",
    "heapq.heappush(minHeap, 2)\n",
    "heapq.heappush(minHeap, 4)\n",
    "\n",
    "# Min is always at index 0\n",
    "print(minHeap[0])\n",
    "\n",
    "while len(minHeap):\n",
    "    print(heapq.heappop(minHeap))"
   ],
   "metadata": {
    "collapsed": false,
    "ExecuteTime": {
     "end_time": "2023-10-07T20:22:07.352447300Z",
     "start_time": "2023-10-07T20:22:05.943161800Z"
    }
   },
   "id": "1b54fac76d14ccff"
  },
  {
   "cell_type": "code",
   "execution_count": 234,
   "outputs": [
    {
     "name": "stdout",
     "output_type": "stream",
     "text": [
      "4\n",
      "4\n",
      "3\n",
      "2\n"
     ]
    }
   ],
   "source": [
    "# Python does not have a max heap by default\n",
    "# A workaround is to use min heap and multiply by -1 when we push and pop\n",
    "import heapq\n",
    "\n",
    "maxHeap = []\n",
    "heapq.heappush(maxHeap, -3)\n",
    "heapq.heappush(maxHeap, -2)\n",
    "heapq.heappush(maxHeap, -4)\n",
    "\n",
    "# Max is always at index 0\n",
    "print(-1 * maxHeap[0])\n",
    "\n",
    "# Again max will be at index 0, but we multiply by -1 on pop\n",
    "while len(maxHeap):\n",
    "    print(-1 * heapq.heappop(maxHeap))"
   ],
   "metadata": {
    "collapsed": false,
    "ExecuteTime": {
     "end_time": "2023-10-07T20:22:07.352447300Z",
     "start_time": "2023-10-07T20:22:05.956800300Z"
    }
   },
   "id": "e84388361a40151e"
  },
  {
   "cell_type": "code",
   "execution_count": 235,
   "outputs": [
    {
     "name": "stdout",
     "output_type": "stream",
     "text": [
      "1\n",
      "2\n",
      "4\n",
      "5\n",
      "8\n"
     ]
    }
   ],
   "source": [
    "# Building a heap from initial values using heapify\n",
    "import heapq\n",
    "\n",
    "arr = [2, 1, 8, 4, 5]\n",
    "# transform a list into a heap in place\n",
    "heapq.heapify(arr)\n",
    "while arr:\n",
    "    print(heapq.heappop(arr))"
   ],
   "metadata": {
    "collapsed": false,
    "ExecuteTime": {
     "end_time": "2023-10-07T20:22:07.352447300Z",
     "start_time": "2023-10-07T20:22:05.978008900Z"
    }
   },
   "id": "7d8ccae708aa121c"
  },
  {
   "cell_type": "markdown",
   "source": [
    "Functions"
   ],
   "metadata": {
    "collapsed": false
   },
   "id": "9c67aebf7bd2729d"
  },
  {
   "cell_type": "code",
   "execution_count": 236,
   "outputs": [
    {
     "name": "stdout",
     "output_type": "stream",
     "text": [
      "12\n"
     ]
    }
   ],
   "source": [
    "def myFunc(n, m):\n",
    "    return n * m\n",
    "\n",
    "print(myFunc(3, 4))"
   ],
   "metadata": {
    "collapsed": false,
    "ExecuteTime": {
     "end_time": "2023-10-07T20:22:07.352447300Z",
     "start_time": "2023-10-07T20:22:05.994339300Z"
    }
   },
   "id": "8a0d66fed2e7d140"
  },
  {
   "cell_type": "code",
   "execution_count": 237,
   "outputs": [
    {
     "name": "stdout",
     "output_type": "stream",
     "text": [
      "abc\n"
     ]
    }
   ],
   "source": [
    "# Nested Functions\n",
    "# Especially useful in case of recursive functions, which need to pass values set to inner functions\n",
    "# Nested function has access to all the variables from outer function\n",
    "def outer(a, b):\n",
    "    c = \"c\"\n",
    "    \n",
    "    def inner():\n",
    "        return a + b + c\n",
    "    return inner()\n",
    "\n",
    "print(outer(\"a\", \"b\"))"
   ],
   "metadata": {
    "collapsed": false,
    "ExecuteTime": {
     "end_time": "2023-10-07T20:22:07.352447300Z",
     "start_time": "2023-10-07T20:22:06.009375300Z"
    }
   },
   "id": "2ae04e55e6731959"
  },
  {
   "cell_type": "code",
   "execution_count": 238,
   "outputs": [
    {
     "name": "stdout",
     "output_type": "stream",
     "text": [
      "[2, 4] 6\n"
     ]
    }
   ],
   "source": [
    "# One problem with nested functions is that you cannot reassign objects\n",
    "# unless using a nonlocal keyword. You can modify objects\n",
    "def double(arr, val):\n",
    "    def helper():\n",
    "        # modifying array works\n",
    "        for i, n in enumerate(arr):\n",
    "            arr[i] *= 2\n",
    "        # modifying val here will work only in helper scope\n",
    "        # val *= 2\n",
    "        \n",
    "        # to modify val outside helper scope use nonlocal keyword\n",
    "        nonlocal val\n",
    "        val *= 2\n",
    "    \n",
    "    helper()\n",
    "    print(arr, val)\n",
    "    \n",
    "    \n",
    "nums = [1, 2]\n",
    "val = 3\n",
    "double(nums, val)\n"
   ],
   "metadata": {
    "collapsed": false,
    "ExecuteTime": {
     "end_time": "2023-10-07T20:22:07.352447300Z",
     "start_time": "2023-10-07T20:22:06.020612900Z"
    }
   },
   "id": "8a1b6c7b05ff445d"
  },
  {
   "cell_type": "markdown",
   "source": [
    "Lambdas"
   ],
   "metadata": {
    "collapsed": false
   },
   "id": "80856fdfd4437514"
  },
  {
   "cell_type": "code",
   "execution_count": 257,
   "outputs": [
    {
     "name": "stdout",
     "output_type": "stream",
     "text": [
      "15\n"
     ]
    }
   ],
   "source": [
    "# Lambdas are single line anonymous functions\n",
    "x = lambda x, y : x + y\n",
    "print(x(5, 10))"
   ],
   "metadata": {
    "collapsed": false,
    "ExecuteTime": {
     "end_time": "2023-10-07T21:13:14.532246300Z",
     "start_time": "2023-10-07T21:13:14.044123500Z"
    }
   },
   "id": "cf73aade5810a74b"
  },
  {
   "cell_type": "markdown",
   "source": [
    "Map and Filter"
   ],
   "metadata": {
    "collapsed": false
   },
   "id": "40e80475bfe44ff7"
  },
  {
   "cell_type": "code",
   "execution_count": 258,
   "outputs": [
    {
     "name": "stdout",
     "output_type": "stream",
     "text": [
      "[3, 4, 5, 6, 7]\n"
     ]
    }
   ],
   "source": [
    "# Map function\n",
    "x = [1, 2, 3, 4, 5]\n",
    "\n",
    "# Map takes in a lambda function which does a value + 2 on each value of list x\n",
    "mp = map(lambda i : i + 2, x)\n",
    "# this returns back a map, so convert to a list\n",
    "print(list(mp))"
   ],
   "metadata": {
    "collapsed": false,
    "ExecuteTime": {
     "end_time": "2023-10-07T21:21:09.900536300Z",
     "start_time": "2023-10-07T21:21:09.669806400Z"
    }
   },
   "id": "a1c67f6afb57ae5f"
  },
  {
   "cell_type": "code",
   "execution_count": 261,
   "outputs": [
    {
     "name": "stdout",
     "output_type": "stream",
     "text": [
      "[4, 6, 8]\n"
     ]
    }
   ],
   "source": [
    "# Filter function\n",
    "\n",
    "y = [3, 5, 4, 6, 8]\n",
    "\n",
    "# Filter takes a lamda function to reduce the values of the list based on the filter function\n",
    "# Example : return only values divisible by 2\n",
    "filt = filter(lambda i : i % 2 == 0, y)\n",
    "\n",
    "# The above returns a filter object, so convert to a list\n",
    "print(list(filt))"
   ],
   "metadata": {
    "collapsed": false,
    "ExecuteTime": {
     "end_time": "2023-10-07T21:25:07.512522900Z",
     "start_time": "2023-10-07T21:25:07.035772500Z"
    }
   },
   "id": "6cea33591044369"
  },
  {
   "cell_type": "markdown",
   "source": [
    "Classes"
   ],
   "metadata": {
    "collapsed": false
   },
   "id": "d35c37fa2c317286"
  },
  {
   "cell_type": "code",
   "execution_count": 264,
   "outputs": [
    {
     "name": "stdout",
     "output_type": "stream",
     "text": [
      "5\n",
      "10\n"
     ]
    }
   ],
   "source": [
    "class MyClass:\n",
    "    # Constructor\n",
    "    def __init__(self, nums):\n",
    "        # Create member variables\n",
    "        self.nums = nums\n",
    "        self.size = len(nums)\n",
    "        \n",
    "    # self must be passed in as a param    \n",
    "    def getLength(self):\n",
    "        return self.size\n",
    "    \n",
    "    def getDouble(self):\n",
    "        return 2 * self.getLength()\n",
    "    \n",
    "    \n",
    "# Using the class\n",
    "test = MyClass([1, 2, 3, 4, 5])\n",
    "length = test.getLength()\n",
    "print(length)\n",
    "\n",
    "doubleLength = test.getDouble()\n",
    "print(doubleLength)\n"
   ],
   "metadata": {
    "collapsed": false,
    "ExecuteTime": {
     "end_time": "2023-10-07T21:36:58.623997500Z",
     "start_time": "2023-10-07T21:36:58.340906900Z"
    }
   },
   "id": "1d9b770a21dbf5f6"
  }
 ],
 "metadata": {
  "kernelspec": {
   "display_name": "Python 3 (ipykernel)",
   "language": "python",
   "name": "python3"
  },
  "language_info": {
   "codemirror_mode": {
    "name": "ipython",
    "version": 3
   },
   "file_extension": ".py",
   "mimetype": "text/x-python",
   "name": "python",
   "nbconvert_exporter": "python",
   "pygments_lexer": "ipython3",
   "version": "3.7.2"
  }
 },
 "nbformat": 4,
 "nbformat_minor": 5
}
