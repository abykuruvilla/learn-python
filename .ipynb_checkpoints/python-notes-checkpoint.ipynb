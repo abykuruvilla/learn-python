{
 "cells": [
  {
   "cell_type": "code",
   "execution_count": 3,
   "id": "initial_id",
   "metadata": {
    "ExecuteTime": {
     "end_time": "2023-10-05T04:45:57.661448Z",
     "start_time": "2023-10-05T04:45:57.537428800Z"
    },
    "collapsed": true
   },
   "outputs": [
    {
     "name": "stdout",
     "output_type": "stream",
     "text": [
      "n =  0\n"
     ]
    }
   ],
   "source": [
    "#varaibles are dynamically typed\n",
    "n = 0\n",
    "print('n = ', n)"
   ]
  },
  {
   "cell_type": "code",
   "execution_count": 4,
   "id": "8b853e4116a62b52",
   "metadata": {
    "ExecuteTime": {
     "end_time": "2023-10-05T04:47:44.666454700Z",
     "start_time": "2023-10-05T04:47:44.481811400Z"
    }
   },
   "outputs": [
    {
     "name": "stdout",
     "output_type": "stream",
     "text": [
      "n =  abc\n"
     ]
    }
   ],
   "source": [
    "# since n has no type it can be reassigned to a string\n",
    "n = \"abc\"\n",
    "print('n = ', n)"
   ]
  },
  {
   "cell_type": "code",
   "execution_count": 6,
   "id": "545ef20ff866a48c",
   "metadata": {
    "ExecuteTime": {
     "end_time": "2023-10-05T04:59:14.271875200Z",
     "start_time": "2023-10-05T04:59:14.163718400Z"
    }
   },
   "outputs": [
    {
     "name": "stdout",
     "output_type": "stream",
     "text": [
      "n =  2\n",
      "m =  cdf\n",
      "n =  0.125\n",
      "m =  efg\n",
      "z =  False\n"
     ]
    }
   ],
   "source": [
    "# we can do multiple assignments\n",
    "n, m = 2, \"cdf\"\n",
    "print('n = ', n)\n",
    "print('m = ', m)\n",
    "\n",
    "n, m, z = 0.125, \"efg\", False\n",
    "print('n = ', n)\n",
    "print('m = ', m)\n",
    "print('z = ', z)"
   ]
  },
  {
   "cell_type": "code",
   "execution_count": 8,
   "id": "df717da0568a8955",
   "metadata": {
    "ExecuteTime": {
     "end_time": "2023-10-05T05:02:46.504201200Z",
     "start_time": "2023-10-05T05:02:46.407496600Z"
    }
   },
   "outputs": [],
   "source": [
    "# increment\n",
    "n = n + 1 # good\n",
    "n += 1    # good\n",
    "# n++ does not work in Python"
   ]
  },
  {
   "cell_type": "code",
   "execution_count": 9,
   "id": "9167c721687c13a0",
   "metadata": {
    "ExecuteTime": {
     "end_time": "2023-10-05T05:04:55.484923Z",
     "start_time": "2023-10-05T05:04:55.341581100Z"
    }
   },
   "outputs": [
    {
     "name": "stdout",
     "output_type": "stream",
     "text": [
      "k =  4\n",
      "k =  None\n"
     ]
    }
   ],
   "source": [
    "# in Python null is None\n",
    "k = 4\n",
    "print('k = ', k)\n",
    "k = None\n",
    "print('k = ', k)"
   ]
  },
  {
   "cell_type": "code",
   "execution_count": 12,
   "id": "6f15d356221b6857",
   "metadata": {
    "ExecuteTime": {
     "end_time": "2023-10-05T05:23:58.026316800Z",
     "start_time": "2023-10-05T05:23:57.939320700Z"
    }
   },
   "outputs": [
    {
     "name": "stdout",
     "output_type": "stream",
     "text": [
      "n =  9\n"
     ]
    }
   ],
   "source": [
    "# if statements - don't need parenthesis or curly braces (we use indentation to  group logic)\n",
    "# else if is elif\n",
    "n = 10\n",
    "if n > 2:\n",
    "    n = n - 1\n",
    "elif n == 2:\n",
    "    n *= 2\n",
    "else:\n",
    "    n = n + 1\n",
    "\n",
    "print('n = ', n)   "
   ]
  },
  {
   "cell_type": "code",
   "execution_count": 13,
   "id": "4d88d77c1dd21e12",
   "metadata": {
    "ExecuteTime": {
     "end_time": "2023-10-05T05:41:29.048015Z",
     "start_time": "2023-10-05T05:41:28.940072100Z"
    }
   },
   "outputs": [
    {
     "name": "stdout",
     "output_type": "stream",
     "text": [
      "n =  1\n"
     ]
    }
   ],
   "source": [
    "# Parenthesis are required for multi-line conditionals\n",
    "# use and for &&\n",
    "# use or for ||\n",
    "n, m = 1, 2\n",
    "if((n > 2 and \n",
    "    n != m) or n == m):\n",
    "    n += 1\n",
    "print('n = ', n)"
   ]
  },
  {
   "cell_type": "code",
   "execution_count": 14,
   "id": "ff1aee215b9b5cfb",
   "metadata": {
    "ExecuteTime": {
     "end_time": "2023-10-05T05:44:55.867690900Z",
     "start_time": "2023-10-05T05:44:55.725151Z"
    }
   },
   "outputs": [
    {
     "name": "stdout",
     "output_type": "stream",
     "text": [
      "n =  0\n",
      "n =  1\n",
      "n =  2\n",
      "n =  3\n",
      "n =  4\n"
     ]
    }
   ],
   "source": [
    "# While loops are similar to if loops\n",
    "n = 0\n",
    "while n < 5:\n",
    "    print('n = ', n)\n",
    "    n += 1"
   ]
  },
  {
   "cell_type": "code",
   "execution_count": 16,
   "id": "e07eaf954de2b814",
   "metadata": {
    "ExecuteTime": {
     "end_time": "2023-10-05T05:53:42.984834800Z",
     "start_time": "2023-10-05T05:53:42.869705Z"
    }
   },
   "outputs": [
    {
     "name": "stdout",
     "output_type": "stream",
     "text": [
      "0\n",
      "1\n",
      "2\n",
      "3\n",
      "4\n",
      "5\n"
     ]
    }
   ],
   "source": [
    "# Loop from 0 to 5; note range does not include 6\n",
    "for i in range(6):\n",
    "    print(i)"
   ]
  },
  {
   "cell_type": "code",
   "execution_count": 17,
   "id": "6d6534186d4ef226",
   "metadata": {
    "ExecuteTime": {
     "end_time": "2023-10-05T05:54:29.170137300Z",
     "start_time": "2023-10-05T05:54:29.024073Z"
    }
   },
   "outputs": [
    {
     "name": "stdout",
     "output_type": "stream",
     "text": [
      "2\n",
      "3\n",
      "4\n",
      "5\n"
     ]
    }
   ],
   "source": [
    "# Loop from 2 to 5\n",
    "for i in range(2, 6):\n",
    "    print(i)"
   ]
  },
  {
   "cell_type": "code",
   "execution_count": 18,
   "id": "b4250eb2fc7203f6",
   "metadata": {
    "ExecuteTime": {
     "end_time": "2023-10-05T05:56:19.802777100Z",
     "start_time": "2023-10-05T05:56:19.626176200Z"
    }
   },
   "outputs": [
    {
     "name": "stdout",
     "output_type": "stream",
     "text": [
      "5\n",
      "4\n",
      "3\n",
      "2\n"
     ]
    }
   ],
   "source": [
    "# Loop in reverse from 5 to 2\n",
    "for i in range(5, 1, -1):\n",
    "    print(i)"
   ]
  },
  {
   "cell_type": "code",
   "execution_count": 19,
   "id": "976de1ec6fda73ca",
   "metadata": {
    "ExecuteTime": {
     "end_time": "2023-10-05T06:01:50.108070Z",
     "start_time": "2023-10-05T06:01:49.905548700Z"
    }
   },
   "outputs": [
    {
     "name": "stdout",
     "output_type": "stream",
     "text": [
      "2.5\n"
     ]
    }
   ],
   "source": [
    "# Division has a decimal by default\n",
    "print(5 / 2)"
   ]
  },
  {
   "cell_type": "code",
   "execution_count": 20,
   "id": "10a87be5fa41fddc",
   "metadata": {
    "ExecuteTime": {
     "end_time": "2023-10-05T06:06:56.530814100Z",
     "start_time": "2023-10-05T06:06:56.306530800Z"
    }
   },
   "outputs": [
    {
     "name": "stdout",
     "output_type": "stream",
     "text": [
      "2\n"
     ]
    }
   ],
   "source": [
    "# Using a double slash will round down to int\n",
    "print(5 // 2)"
   ]
  },
  {
   "cell_type": "code",
   "execution_count": 25,
   "id": "1694666f104aa27",
   "metadata": {
    "ExecuteTime": {
     "end_time": "2023-10-05T06:28:22.994921100Z",
     "start_time": "2023-10-05T06:28:22.819667300Z"
    }
   },
   "outputs": [
    {
     "name": "stdout",
     "output_type": "stream",
     "text": [
      "-2\n"
     ]
    }
   ],
   "source": [
    "# Negative numbers will round towards zero in most languages, but Python rounds down\n",
    "print(-3 // 2)"
   ]
  },
  {
   "cell_type": "code",
   "execution_count": 24,
   "id": "caeb685083a3b522",
   "metadata": {
    "ExecuteTime": {
     "end_time": "2023-10-05T06:28:06.244816200Z",
     "start_time": "2023-10-05T06:28:06.087341400Z"
    }
   },
   "outputs": [
    {
     "name": "stdout",
     "output_type": "stream",
     "text": [
      "-1\n"
     ]
    }
   ],
   "source": [
    "# A workaround to round towards zero is to do decimal division and then convert to int\n",
    "print(int(-3 / 2))"
   ]
  },
  {
   "cell_type": "code",
   "execution_count": 27,
   "id": "1badcec956c6b513",
   "metadata": {
    "ExecuteTime": {
     "end_time": "2023-10-05T06:30:30.383563800Z",
     "start_time": "2023-10-05T06:30:30.280875500Z"
    }
   },
   "outputs": [
    {
     "name": "stdout",
     "output_type": "stream",
     "text": [
      "1\n"
     ]
    }
   ],
   "source": [
    "# Mod works like most languages\n",
    "print(10 % 3)"
   ]
  },
  {
   "cell_type": "code",
   "execution_count": 29,
   "id": "49c2cc68ca4f3d",
   "metadata": {
    "ExecuteTime": {
     "end_time": "2023-10-05T06:33:07.812344800Z",
     "start_time": "2023-10-05T06:33:07.650363200Z"
    }
   },
   "outputs": [
    {
     "name": "stdout",
     "output_type": "stream",
     "text": [
      "2\n"
     ]
    }
   ],
   "source": [
    "# Mod works weird for negative values, returns 2 instead of 1\n",
    "print(-10 % 3)"
   ]
  },
  {
   "cell_type": "code",
   "execution_count": 35,
   "id": "ce92cd90ed1685a",
   "metadata": {
    "ExecuteTime": {
     "end_time": "2023-10-05T06:48:28.475018100Z",
     "start_time": "2023-10-05T06:48:28.344754700Z"
    }
   },
   "outputs": [
    {
     "name": "stdout",
     "output_type": "stream",
     "text": [
      "Math mod (-10 % 3) ->  -1.0\n",
      "Math floor (3 / 2) ->  1\n",
      "Math ceiling (3 / 2) ->  2\n",
      "Math sqrt of 2 ->  1.4142135623730951\n",
      "Math power of 2^3 ->  8.0\n"
     ]
    }
   ],
   "source": [
    "# To match modulo functionality of Java import the math package\n",
    "import math\n",
    "print('Math mod (-10 % 3) -> ', math.fmod(-10, 3))\n",
    "\n",
    "# More math operators\n",
    "print('Math floor (3 / 2) -> ', math.floor(3 / 2))\n",
    "print('Math ceiling (3 / 2) -> ', math.ceil(3 / 2))\n",
    "print('Math sqrt of 2 -> ', math.sqrt(2))\n",
    "print('Math power of 2^3 -> ', math.pow(2, 3))\n"
   ]
  },
  {
   "cell_type": "code",
   "execution_count": null,
   "id": "2a6d8828626cc47a",
   "metadata": {},
   "outputs": [],
   "source": []
  }
 ],
 "metadata": {
  "kernelspec": {
   "display_name": "Python 3 (ipykernel)",
   "language": "python",
   "name": "python3"
  },
  "language_info": {
   "codemirror_mode": {
    "name": "ipython",
    "version": 3
   },
   "file_extension": ".py",
   "mimetype": "text/x-python",
   "name": "python",
   "nbconvert_exporter": "python",
   "pygments_lexer": "ipython3",
   "version": "3.7.2"
  }
 },
 "nbformat": 4,
 "nbformat_minor": 5
}
